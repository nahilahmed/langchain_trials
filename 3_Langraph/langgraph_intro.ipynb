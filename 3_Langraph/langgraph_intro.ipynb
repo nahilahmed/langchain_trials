{
 "cells": [
  {
   "cell_type": "markdown",
   "id": "9e899933",
   "metadata": {},
   "source": [
    "This notebook provides an introduction to LangGraph, focusing on its core concepts and usage. The following topics will be covered:\n",
    "\n",
    "- `graph()`: Creating and managing graphs\n",
    "- `state`: Understanding and manipulating state within LangGraph\n",
    "- `edges`: Defining and working with edges in a graph\n",
    "- `nodes`: Creating and connecting nodes\n",
    "- `invoke`: Executing graph operations\n",
    "- `stategraph()`: Advanced state management with state graphs\n",
    "\n",
    "By the end of this notebook, you will have a foundational understanding of how to use LangGraph for building and managing graph-based workflows."
   ]
  },
  {
   "cell_type": "markdown",
   "id": "4d57e815",
   "metadata": {},
   "source": [
    "## Example of a Simple Graph using Langgraph"
   ]
  },
  {
   "cell_type": "code",
   "execution_count": 13,
   "id": "0a28acda",
   "metadata": {},
   "outputs": [],
   "source": [
    "def function1(input1):\n",
    "    return input1 + \" from first function\"\n",
    "\n",
    "def function2(input2):\n",
    "    return input2 + \" -  Inoput processed by second function\"\n",
    "\n",
    "def function3(input3):\n",
    "    pass"
   ]
  },
  {
   "cell_type": "code",
   "execution_count": 14,
   "id": "db3d4f62",
   "metadata": {},
   "outputs": [
    {
     "name": "stdout",
     "output_type": "stream",
     "text": [
      "Nahil from first function\n",
      "Nahil Ahmed -  Inoput processed by second function\n"
     ]
    }
   ],
   "source": [
    "print(function1(\"Nahil\"))\n",
    "print(function2(\"Nahil Ahmed\"))"
   ]
  },
  {
   "cell_type": "markdown",
   "id": "c992f67c",
   "metadata": {},
   "source": [
    "LangChain provides two types of graphs: **Normal Graph** and **State Graph**. In this section, we are focusing on the Normal Graph. The State Graph will be covered later in the notebook."
   ]
  },
  {
   "cell_type": "code",
   "execution_count": 15,
   "id": "ec9c09ff",
   "metadata": {},
   "outputs": [],
   "source": [
    "from langgraph.graph import Graph\n",
    "\n",
    "workflow1 = Graph()"
   ]
  },
  {
   "cell_type": "code",
   "execution_count": 16,
   "id": "1f7f2faa",
   "metadata": {},
   "outputs": [
    {
     "data": {
      "text/plain": [
       "<langgraph.graph.graph.Graph at 0x120dfd6d0>"
      ]
     },
     "execution_count": 16,
     "metadata": {},
     "output_type": "execute_result"
    }
   ],
   "source": [
    "workflow1.add_node(\"fun1\",function1)\n",
    "workflow1.add_node(\"fun2\", function2)"
   ]
  },
  {
   "cell_type": "code",
   "execution_count": 17,
   "id": "110b6c01",
   "metadata": {},
   "outputs": [
    {
     "data": {
      "text/plain": [
       "<langgraph.graph.graph.Graph at 0x120dfd6d0>"
      ]
     },
     "execution_count": 17,
     "metadata": {},
     "output_type": "execute_result"
    }
   ],
   "source": [
    "workflow1.add_edge(\"fun1\",\"fun2\")"
   ]
  },
  {
   "cell_type": "code",
   "execution_count": 18,
   "id": "64fa8165",
   "metadata": {},
   "outputs": [
    {
     "data": {
      "text/plain": [
       "<langgraph.graph.graph.Graph at 0x120dfd6d0>"
      ]
     },
     "execution_count": 18,
     "metadata": {},
     "output_type": "execute_result"
    }
   ],
   "source": [
    "workflow1.set_entry_point(\"fun1\")\n",
    "workflow1.set_finish_point(\"fun2\")"
   ]
  },
  {
   "cell_type": "code",
   "execution_count": 19,
   "id": "218c0ca4",
   "metadata": {},
   "outputs": [],
   "source": [
    "app = workflow1.compile()"
   ]
  },
  {
   "cell_type": "code",
   "execution_count": 20,
   "id": "5fab4fe9",
   "metadata": {},
   "outputs": [
    {
     "data": {
      "image/png": "[encoded data removed]",
      "text/plain": [
       "<IPython.core.display.Image object>"
      ]
     },
     "metadata": {},
     "output_type": "display_data"
    }
   ],
   "source": [
    "from IPython.display import Image, display\n",
    "\n",
    "display(Image(app.get_graph().draw_mermaid_png()))"
   ]
  },
  {
   "cell_type": "code",
   "execution_count": 21,
   "id": "92d967d7",
   "metadata": {},
   "outputs": [
    {
     "data": {
      "text/plain": [
       "'Hi Hani from first function -  Inoput processed by second function'"
      ]
     },
     "execution_count": 21,
     "metadata": {},
     "output_type": "execute_result"
    }
   ],
   "source": [
    "app.invoke(\"Hi Hani\")"
   ]
  },
  {
   "cell_type": "code",
   "execution_count": 22,
   "id": "7223c344",
   "metadata": {},
   "outputs": [
    {
     "name": "stdout",
     "output_type": "stream",
     "text": [
      "Output from fun1\n",
      "_______\n",
      "Hi Hani from first function\n",
      "\n",
      "\n",
      "Output from fun2\n",
      "_______\n",
      "Hi Hani from first function -  Inoput processed by second function\n",
      "\n",
      "\n"
     ]
    }
   ],
   "source": [
    "for output in app.stream(\"Hi Hani\"):\n",
    "    for key,value in output.items():\n",
    "        print(f\"Output from {key}\")\n",
    "        print(\"_______\")\n",
    "        print(value)\n",
    "        print(\"\\n\")"
   ]
  },
  {
   "cell_type": "markdown",
   "id": "b4ab4f5f",
   "metadata": {},
   "source": [
    "## Example of Simple Graph with Tools"
   ]
  },
  {
   "cell_type": "code",
   "execution_count": 37,
   "id": "716bac29",
   "metadata": {},
   "outputs": [
    {
     "data": {
      "text/plain": [
       "True"
      ]
     },
     "execution_count": 37,
     "metadata": {},
     "output_type": "execute_result"
    }
   ],
   "source": [
    "import os\n",
    "from dotenv import load_dotenv\n",
    "from langchain_openai import ChatOpenAI\n",
    "load_dotenv()"
   ]
  },
  {
   "cell_type": "code",
   "execution_count": 34,
   "id": "095304da",
   "metadata": {},
   "outputs": [],
   "source": [
    "# Set environment variables for OpenAI\n",
    "os.environ[\"OPENAI_API_KEY\"] = os.getenv(\"OPENAI_API_KEY\", \"\")\n",
    "\n",
    "# Set environment variables for LangChain\n",
    "os.environ[\"LANGCHAIN_API_KEY\"] = os.getenv(\"LANGCHAIN_API_KEY\", \"\")\n",
    "os.environ[\"LANGCHAIN_PROJECT\"] = os.getenv(\"LANGCHAIN_PROJECT\", \"\")\n",
    "os.environ[\"LANGCHAIN_TRACING_V2\"] = \"true\"\n",
    "\n",
    "# Set environment variables for Groq\n",
    "os.environ[\"GROQ_API_KEY\"] = os.getenv(\"GROQ_API_KEY\", \"\")"
   ]
  },
  {
   "cell_type": "code",
   "execution_count": 53,
   "id": "76688859",
   "metadata": {},
   "outputs": [],
   "source": [
    "from collections import Counter\n",
    "\n",
    "def my_llm(input):\n",
    "    llm = ChatOpenAI(\n",
    "        model=\"gpt-4o\",\n",
    "        temperature=0.0,\n",
    "    )\n",
    "    output = llm.invoke(input)\n",
    "    return output.content\n",
    "\n",
    "def token_counter(input):\n",
    "    char_count = len(input)\n",
    "    return f\"Token for the generated answer is: {char_count}\""
   ]
  },
  {
   "cell_type": "code",
   "execution_count": 54,
   "id": "3eb5524c",
   "metadata": {},
   "outputs": [
    {
     "data": {
      "text/plain": [
       "<langgraph.graph.graph.Graph at 0x120e203e0>"
      ]
     },
     "execution_count": 54,
     "metadata": {},
     "output_type": "execute_result"
    }
   ],
   "source": [
    "workflow2 = Graph()\n",
    "\n",
    "workflow2.add_node(\"my_llm\", my_llm)\n",
    "workflow2.add_node(\"token_counter\", token_counter)"
   ]
  },
  {
   "cell_type": "code",
   "execution_count": 55,
   "id": "c745bf6d",
   "metadata": {},
   "outputs": [
    {
     "data": {
      "text/plain": [
       "<langgraph.graph.graph.Graph at 0x120e203e0>"
      ]
     },
     "execution_count": 55,
     "metadata": {},
     "output_type": "execute_result"
    }
   ],
   "source": [
    "workflow2.add_edge(\"my_llm\", \"token_counter\")\n",
    "workflow2.set_entry_point(\"my_llm\")\n",
    "workflow2.set_finish_point(\"token_counter\")"
   ]
  },
  {
   "cell_type": "code",
   "execution_count": 56,
   "id": "1b15c506",
   "metadata": {},
   "outputs": [],
   "source": [
    "app2 = workflow2.compile()"
   ]
  },
  {
   "cell_type": "code",
   "execution_count": 57,
   "id": "2c6fc162",
   "metadata": {},
   "outputs": [
    {
     "data": {
      "image/png": "[encoded data removed]",
      "text/plain": [
       "<IPython.core.display.Image object>"
      ]
     },
     "metadata": {},
     "output_type": "display_data"
    }
   ],
   "source": [
    "display(Image(app2.get_graph().draw_mermaid_png()))"
   ]
  },
  {
   "cell_type": "code",
   "execution_count": 58,
   "id": "568f28ec",
   "metadata": {},
   "outputs": [
    {
     "data": {
      "text/plain": [
       "'Token for the generated answer is: 31'"
      ]
     },
     "execution_count": 58,
     "metadata": {},
     "output_type": "execute_result"
    }
   ],
   "source": [
    "app2.invoke(\"What is the capital of France?\")"
   ]
  },
  {
   "cell_type": "code",
   "execution_count": 59,
   "id": "a2864458",
   "metadata": {},
   "outputs": [
    {
     "name": "stdout",
     "output_type": "stream",
     "text": [
      "Output from my_llm\n",
      "_______\n",
      "The capital of France is Paris.\n",
      "\n",
      "\n",
      "Output from token_counter\n",
      "_______\n",
      "Token for the generated answer is: 31\n",
      "\n",
      "\n"
     ]
    }
   ],
   "source": [
    "app2.invoke(\"What is the capital of France?\")\n",
    "for output in app2.stream(\"What is the capital of France?\"):\n",
    "    for key, value in output.items():\n",
    "        print(f\"Output from {key}\")\n",
    "        print(\"_______\")\n",
    "        print(value)\n",
    "        print(\"\\n\")"
   ]
  }
 ],
 "metadata": {
  "kernelspec": {
   "display_name": "langchain-env",
   "language": "python",
   "name": "python3"
  },
  "language_info": {
   "codemirror_mode": {
    "name": "ipython",
    "version": 3
   },
   "file_extension": ".py",
   "mimetype": "text/x-python",
   "name": "python",
   "nbconvert_exporter": "python",
   "pygments_lexer": "ipython3",
   "version": "3.13.2"
  }
 },
 "nbformat": 4,
 "nbformat_minor": 5
}
